{
 "cells": [
  {
   "metadata": {},
   "cell_type": "markdown",
   "source": "# Notebook 2 - Creating and Testing a vector database using LangChain Chroma.",
   "id": "874ad0b47bdbc8f0"
  },
  {
   "metadata": {},
   "cell_type": "markdown",
   "source": "## Part 1 - Creating a vector database using Chroma.",
   "id": "908f5fae06c1ace7"
  },
  {
   "metadata": {},
   "cell_type": "markdown",
   "source": "Initial imports",
   "id": "15068c10b096b891"
  },
  {
   "metadata": {
    "ExecuteTime": {
     "end_time": "2025-05-08T13:41:39.354167Z",
     "start_time": "2025-05-08T13:41:36.322889Z"
    }
   },
   "cell_type": "code",
   "source": [
    "# imports:\n",
    "import pandas as pd\n",
    "from dotenv import load_dotenv\n",
    "from langchain.document_loaders.csv_loader import CSVLoader\n",
    "from langchain_openai.chat_models import ChatOpenAI\n",
    "from langchain_openai.embeddings import OpenAIEmbeddings\n",
    "from langchain_chroma.vectorstores import Chroma\n",
    "from langchain.chains import RetrievalQA\n",
    "from langchain.prompts import PromptTemplate\n",
    "from langchain.chains.question_answering import load_qa_chain\n",
    "# from langchain import  LLMChain\n",
    "# from pathlib import Path\n",
    "\n",
    "# constants:\n",
    "CSV_FILEPATH = '../data/real_estate_listings_formatted.csv'\n",
    "VDB_PATH = '../vdb'\n",
    "# environment variables:\n",
    "load_dotenv()"
   ],
   "id": "4ea85483238f2573",
   "outputs": [
    {
     "data": {
      "text/plain": [
       "True"
      ]
     },
     "execution_count": 1,
     "metadata": {},
     "output_type": "execute_result"
    }
   ],
   "execution_count": 1
  },
  {
   "metadata": {},
   "cell_type": "markdown",
   "source": "Initializing the embeddings and the chat model and the LLM chain.",
   "id": "8beed8ac6bc71c3d"
  },
  {
   "metadata": {
    "ExecuteTime": {
     "end_time": "2025-05-08T13:41:39.677769Z",
     "start_time": "2025-05-08T13:41:39.640723Z"
    }
   },
   "cell_type": "code",
   "source": [
    "embeddings = OpenAIEmbeddings()\n",
    "chat_llm = ChatOpenAI(temperature= 0.0,\n",
    "                      model= \"gpt-4.1\",\n",
    "                      max_tokens= 1000,\n",
    "                      max_retries=1)"
   ],
   "id": "269fd525260d3243",
   "outputs": [],
   "execution_count": 2
  },
  {
   "metadata": {},
   "cell_type": "markdown",
   "source": "Reading the CSV file to understand the data context.",
   "id": "ff1b690a49455bd"
  },
  {
   "cell_type": "code",
   "id": "initial_id",
   "metadata": {
    "collapsed": true,
    "ExecuteTime": {
     "end_time": "2025-05-08T13:41:39.699237Z",
     "start_time": "2025-05-08T13:41:39.688050Z"
    }
   },
   "source": [
    "df = pd.read_csv(CSV_FILEPATH)\n",
    "df.head()"
   ],
   "outputs": [
    {
     "data": {
      "text/plain": [
       "                                                text\n",
       "0  Neighborhood: Riverside Heights\\nPrice: 320000...\n",
       "1  Neighborhood: Old Town\\nPrice: 185000 euro\\nBe...\n",
       "2  Neighborhood: Sunnydale\\nPrice: 270000 euro\\nB...\n",
       "3  Neighborhood: City Center\\nPrice: 450000 euro\\...\n",
       "4  Neighborhood: Maple Grove\\nPrice: 210000 euro\\..."
      ],
      "text/html": [
       "<div>\n",
       "<style scoped>\n",
       "    .dataframe tbody tr th:only-of-type {\n",
       "        vertical-align: middle;\n",
       "    }\n",
       "\n",
       "    .dataframe tbody tr th {\n",
       "        vertical-align: top;\n",
       "    }\n",
       "\n",
       "    .dataframe thead th {\n",
       "        text-align: right;\n",
       "    }\n",
       "</style>\n",
       "<table border=\"1\" class=\"dataframe\">\n",
       "  <thead>\n",
       "    <tr style=\"text-align: right;\">\n",
       "      <th></th>\n",
       "      <th>text</th>\n",
       "    </tr>\n",
       "  </thead>\n",
       "  <tbody>\n",
       "    <tr>\n",
       "      <th>0</th>\n",
       "      <td>Neighborhood: Riverside Heights\\nPrice: 320000...</td>\n",
       "    </tr>\n",
       "    <tr>\n",
       "      <th>1</th>\n",
       "      <td>Neighborhood: Old Town\\nPrice: 185000 euro\\nBe...</td>\n",
       "    </tr>\n",
       "    <tr>\n",
       "      <th>2</th>\n",
       "      <td>Neighborhood: Sunnydale\\nPrice: 270000 euro\\nB...</td>\n",
       "    </tr>\n",
       "    <tr>\n",
       "      <th>3</th>\n",
       "      <td>Neighborhood: City Center\\nPrice: 450000 euro\\...</td>\n",
       "    </tr>\n",
       "    <tr>\n",
       "      <th>4</th>\n",
       "      <td>Neighborhood: Maple Grove\\nPrice: 210000 euro\\...</td>\n",
       "    </tr>\n",
       "  </tbody>\n",
       "</table>\n",
       "</div>"
      ]
     },
     "execution_count": 3,
     "metadata": {},
     "output_type": "execute_result"
    }
   ],
   "execution_count": 3
  },
  {
   "metadata": {},
   "cell_type": "markdown",
   "source": "Loading the CSV file using the CSVLoader and creating the Chroma vector database.",
   "id": "a5ed91406ea084c2"
  },
  {
   "metadata": {
    "ExecuteTime": {
     "end_time": "2025-05-08T13:41:39.760813Z",
     "start_time": "2025-05-08T13:41:39.755336Z"
    }
   },
   "cell_type": "code",
   "source": [
    "#load csv\n",
    "loader = CSVLoader(CSV_FILEPATH)\n",
    "docs = loader.load()\n",
    "print('Length of docs: ',len(docs),'\\n---')\n",
    "print('1st doc text value:\\n---\\n',docs[0])"
   ],
   "id": "1b442f31d5219299",
   "outputs": [
    {
     "name": "stdout",
     "output_type": "stream",
     "text": [
      "Length of docs:  50 \n",
      "---\n",
      "1st doc text value:\n",
      "---\n",
      " page_content='text: Neighborhood: Riverside Heights\n",
      "Price: 320000 euro\n",
      "Bedrooms: 4\n",
      "House Size: 210 square meters\n",
      "\n",
      "Description: Spacious 4-bedroom family home with a modern kitchen, open-plan living area, and a sun-drenched patio overlooking a private garden. The master suite features a walk-in closet and en-suite bathroom. Perfect for entertaining guests or relaxing with family.\n",
      "\n",
      "Neighborhood Description: Riverside Heights is known for its scenic river views, tree-lined streets, and family-friendly parks. Residents enjoy weekend farmers' markets and easy access to top-rated schools and local cafes.' metadata={'source': '../data/real_estate_listings_formatted.csv', 'row': 0}\n"
     ]
    }
   ],
   "execution_count": 4
  },
  {
   "metadata": {
    "ExecuteTime": {
     "end_time": "2025-05-08T13:41:42.472769Z",
     "start_time": "2025-05-08T13:41:39.808710Z"
    }
   },
   "cell_type": "code",
   "source": [
    "#creating a chroma vector database\n",
    "db = Chroma.from_documents(\n",
    "    docs,\n",
    "    embeddings,\n",
    "    collection_name= 'real_estate_listings',\n",
    "    persist_directory= VDB_PATH\n",
    ")"
   ],
   "id": "52f73ef08a821006",
   "outputs": [],
   "execution_count": 5
  },
  {
   "metadata": {},
   "cell_type": "markdown",
   "source": "## Part 2 - Checking results from Chroma using RAG approach.",
   "id": "f4ee16eb227c4897"
  },
  {
   "metadata": {},
   "cell_type": "markdown",
   "source": "Providing a query and running the RAG chain.",
   "id": "74c6fcd6358accb5"
  },
  {
   "metadata": {
    "ExecuteTime": {
     "end_time": "2025-05-08T15:48:19.881027Z",
     "start_time": "2025-05-08T15:48:19.868078Z"
    }
   },
   "cell_type": "code",
   "source": [
    "#query = \"I would like to buy a luxury house nearby a lake. Recommend based on the provided context.\"\n",
    "#\"I would like to buy a small house in town, I am single so I do not want something big. Recommend based on the provided context.\"\n",
    "\n",
    "query = \"I want to buy a house in the old city. What is the best price?\""
   ],
   "id": "554df5f902742fba",
   "outputs": [],
   "execution_count": 12
  },
  {
   "metadata": {},
   "cell_type": "markdown",
   "source": "Running the RAG chain process with two different approaches.",
   "id": "c418860de4a9b349"
  },
  {
   "metadata": {
    "ExecuteTime": {
     "end_time": "2025-05-08T15:48:24.381601Z",
     "start_time": "2025-05-08T15:48:21.117238Z"
    }
   },
   "cell_type": "code",
   "source": [
    "use_chain_helper = True\n",
    "if use_chain_helper:\n",
    "    rag = RetrievalQA.from_chain_type(\n",
    "        llm= chat_llm,\n",
    "        chain_type=\"stuff\",\n",
    "        retriever=db.as_retriever(\n",
    "            search_type=\"mmr\", #\n",
    "            search_kwargs={'k': 3,\n",
    "                           'fetch_k': 10,\n",
    "                           'lambda_mult': 0.5\n",
    "                           }\n",
    "        )\n",
    "    )\n",
    "    gen_output = rag.invoke(query)\n",
    "    print(gen_output['result'])\n",
    "else:\n",
    "    similar_docs = db.similarity_search(query, k=3)\n",
    "    prompt = PromptTemplate(\n",
    "        template=\"{query}\\nContext:\\n{context}\",\n",
    "        input_variables=[\"query\", \"context\"],\n",
    "    )\n",
    "    chain = load_qa_chain(llm= chat_llm, prompt=prompt, chain_type=\"stuff\") # deprecated in newer versions\n",
    "    print(chain.run(query=query, input_documents=similar_docs))\n",
    "    print('\\n---Retrieved Docs Log---\\n',similar_docs)"
   ],
   "id": "461704bec898fd64",
   "outputs": [
    {
     "name": "stdout",
     "output_type": "stream",
     "text": [
      "Based on the available information, the best price for a house in the Old Town (old city) is **185,000 euro** for a charming 2-bedroom townhouse with 95 square meters of space.\n"
     ]
    }
   ],
   "execution_count": 13
  },
  {
   "metadata": {
    "ExecuteTime": {
     "end_time": "2025-05-08T13:41:46.147814Z",
     "start_time": "2025-05-08T13:41:46.145892Z"
    }
   },
   "cell_type": "code",
   "source": "",
   "id": "73887e380fcedf03",
   "outputs": [],
   "execution_count": null
  },
  {
   "metadata": {
    "ExecuteTime": {
     "end_time": "2025-05-08T13:41:46.168626Z",
     "start_time": "2025-05-08T13:41:46.166203Z"
    }
   },
   "cell_type": "code",
   "source": "",
   "id": "611c08600513050",
   "outputs": [],
   "execution_count": null
  }
 ],
 "metadata": {
  "kernelspec": {
   "display_name": "Python 3",
   "language": "python",
   "name": "python3"
  },
  "language_info": {
   "codemirror_mode": {
    "name": "ipython",
    "version": 2
   },
   "file_extension": ".py",
   "mimetype": "text/x-python",
   "name": "python",
   "nbconvert_exporter": "python",
   "pygments_lexer": "ipython2",
   "version": "2.7.6"
  }
 },
 "nbformat": 4,
 "nbformat_minor": 5
}

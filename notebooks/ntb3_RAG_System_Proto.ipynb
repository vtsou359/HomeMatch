{
 "cells": [
  {
   "metadata": {},
   "cell_type": "markdown",
   "source": "# Notebook 3 - RAG System Prototype Logic Flow",
   "id": "ef19db700e00c601"
  },
  {
   "metadata": {},
   "cell_type": "markdown",
   "source": [
    "## Introduction\n",
    "\n",
    "### Notebook Overview\n",
    "* **Purpose**: Development of a RAG (Retrieval Augmented Generation) System Prototype\n",
    "* **Main Components**:\n",
    "  * Part 1: Initial setup, imports and prompt functions\n",
    "  * Part 2: Retrieval based on user input\n",
    "  * Part 3: LLM integration for recommendations\n",
    "\n",
    "### Summary\n",
    "This notebook implements a real estate recommendation system using RAG architecture. It combines vector database retrieval (Chroma) with LLM capabilities (GPT-4.1) to provide personalized house recommendations based on user preferences. The system processes user inputs about neighborhood preferences, house requirements, size needs and budget constraints to search through real estate listings, generating tailored recommendations in a structured markdown format.\n"
   ],
   "id": "933c785a45c20f58"
  },
  {
   "metadata": {},
   "cell_type": "markdown",
   "source": "## Part 1 - Initial imports, setup and prompt functions",
   "id": "2992c9cbeb19bbd7"
  },
  {
   "cell_type": "code",
   "id": "initial_id",
   "metadata": {
    "collapsed": true,
    "ExecuteTime": {
     "end_time": "2025-05-10T10:09:57.405857Z",
     "start_time": "2025-05-10T10:09:57.297526Z"
    }
   },
   "source": [
    "# Imports:\n",
    "import pandas as pd\n",
    "from dotenv import load_dotenv\n",
    "from langchain.document_loaders.csv_loader import CSVLoader\n",
    "from langchain_openai.chat_models import ChatOpenAI\n",
    "from langchain_openai.embeddings import OpenAIEmbeddings\n",
    "from langchain_chroma.vectorstores import Chroma\n",
    "from langchain.chains import RetrievalQA\n",
    "from langchain.prompts import PromptTemplate\n",
    "from langchain.chains.question_answering import load_qa_chain\n",
    "# from langchain import  LLMChain\n",
    "# from pathlib import Path\n",
    "\n",
    "# Constants:\n",
    "CSV_FILEPATH = '../data/real_estate_listings_formatted.csv'\n",
    "VDB_PATH = '../vdb'\n",
    "VDB_NAME = 'real_estate_listings'\n",
    "# Environment variables:\n",
    "load_dotenv()\n",
    "\n",
    "# OpenAI Models:\n",
    "embeddings = OpenAIEmbeddings()\n",
    "chat_llm = ChatOpenAI(temperature= 0.0,\n",
    "                      model= \"gpt-4.1\",\n",
    "                      max_tokens= 1000,\n",
    "                      max_retries=1)\n",
    "\n",
    "# Loading Chroma DB:\n",
    "db = Chroma(persist_directory= VDB_PATH,\n",
    "            embedding_function=embeddings,\n",
    "            collection_name=VDB_NAME)\n",
    "import pandas as pd\n",
    "from dotenv import load_dotenv\n",
    "from langchain.document_loaders.csv_loader import CSVLoader\n",
    "from langchain_openai.chat_models import ChatOpenAI\n",
    "from langchain_openai.embeddings import OpenAIEmbeddings\n",
    "from langchain_chroma.vectorstores import Chroma\n",
    "from langchain.chains import RetrievalQA\n",
    "from langchain.prompts import PromptTemplate, PipelinePromptTemplate\n",
    "from langchain.chains.question_answering import load_qa_chain\n",
    "# from langchain import  LLMChain\n",
    "# from pathlib import Path\n",
    "\n",
    "# Constants:\n",
    "CSV_FILEPATH = '../data/real_estate_listings_formatted.csv'\n",
    "VDB_PATH = '../vdb'\n",
    "# Environment variables:\n",
    "load_dotenv()\n",
    "\n",
    "# Openai models:\n",
    "embeddings = OpenAIEmbeddings()\n",
    "chat_llm = ChatOpenAI(temperature= 0.0,\n",
    "                      model= \"gpt-4.1\",\n",
    "                      max_tokens= 2000,\n",
    "                      max_retries= 1)\n",
    "# VectorDB loading:\n",
    "vdb = db.as_retriever(search_type=\"mmr\",search_kwargs={'k': 5, 'fetch_k': 15, 'lambda_mult': 0.5})"
   ],
   "outputs": [],
   "execution_count": 56
  },
  {
   "metadata": {},
   "cell_type": "markdown",
   "source": "Creating a prompt template suitable for semantic search",
   "id": "4eb883bd43b7fec8"
  },
  {
   "metadata": {
    "ExecuteTime": {
     "end_time": "2025-05-10T10:09:57.986404Z",
     "start_time": "2025-05-10T10:09:57.982314Z"
    }
   },
   "cell_type": "code",
   "source": [
    "def prompt_to_retriever(nhood:str, prefs:str, size:str, cost:str)-> str:\n",
    "    template = \\\n",
    "    \"\"\"\n",
    "    Description of the ideal neighborhood: {var0}\n",
    "    Description of buyer's preferences: {var1}\n",
    "    House size preference: {var2}\n",
    "    Budget: {var3}\n",
    "    \"\"\"\n",
    "    prompt_template = PromptTemplate.from_template(template)\n",
    "    res = prompt_template.format(var0= nhood,\n",
    "                                 var1= prefs,\n",
    "                                 var2= size,\n",
    "                                 var3= cost\n",
    "                                 )\n",
    "    return res"
   ],
   "id": "d70a48880f882126",
   "outputs": [],
   "execution_count": 57
  },
  {
   "metadata": {},
   "cell_type": "markdown",
   "source": "Creating a prompt template suitable for input to LLM",
   "id": "9cd94d96ae21a349"
  },
  {
   "metadata": {
    "ExecuteTime": {
     "end_time": "2025-05-10T10:10:00.931018Z",
     "start_time": "2025-05-10T10:10:00.925391Z"
    }
   },
   "cell_type": "code",
   "source": [
    "def prompt_to_llm(nhood:str, prefs:str, size:str, cost:str, context)-> str:\n",
    "    template = \\\n",
    "    \"\"\"\n",
    "    You are a helpful real estate recommendation engine that helps buyers find their ideal home based on their preferences.\n",
    "    According only to the context provided you must answer their query.\n",
    "\n",
    "    -- Buyer's preferences:\n",
    "    The user has the following preferences:\n",
    "        > Description of the ideal neighborhood: {var0}\n",
    "        > Description of buyer's preferences: {var1}\n",
    "        > House size preference: {var2}\n",
    "        > Budget: {var3}\n",
    "\n",
    "    -- Output format rules:\n",
    "    > Based on the preferences above and the provided content, recommend a house/houses that meets the buyer's needs.\n",
    "    > Provide your recommendations strictly in markdown bullet points.\n",
    "    > Always augment the description of real estate listings (context).\n",
    "    > The augmentation should personalize the listing without changing factual information.\n",
    "    > First, provide a summarisation of houses provided in the context (in bullet points). Second provide the final recommendation (recommended house).\n",
    "    > The final recommendation's descriptions in markdown bullets should be unique, appealing, and tailored to the buyer's preferences.\n",
    "\n",
    "    -- Provided Real Estate Listings Context:\n",
    "    \"\"\"\n",
    "    for idx, doc in enumerate(context):\n",
    "        template+=\\\n",
    "            f\"\"\"Document {idx}:\n",
    "            {doc.page_content}\n",
    "            ---\"\"\"\n",
    "\n",
    "    prompt_template = PromptTemplate.from_template(template)\n",
    "    res = prompt_template.format(var0= nhood,\n",
    "                                 var1= prefs,\n",
    "                                 var2= size,\n",
    "                                 var3= cost,\n",
    "                                 var4= context)\n",
    "    return res\n"
   ],
   "id": "34ff7ac2c9154d0b",
   "outputs": [],
   "execution_count": 58
  },
  {
   "metadata": {},
   "cell_type": "markdown",
   "source": "## Part 2 - Retrieval based on user input",
   "id": "e432b631ae388c61"
  },
  {
   "metadata": {},
   "cell_type": "markdown",
   "source": "#### Questions and answers (user input):",
   "id": "5100050f5e55a473"
  },
  {
   "metadata": {},
   "cell_type": "markdown",
   "source": "Questions:",
   "id": "de91b1c1261ac287"
  },
  {
   "metadata": {
    "ExecuteTime": {
     "end_time": "2025-05-10T10:10:06.089385Z",
     "start_time": "2025-05-10T10:10:06.086124Z"
    }
   },
   "cell_type": "code",
   "source": [
    "neighborhood_q = \"What is the ideal neighborhood that you would like to live in?\"\n",
    "preferences_q = \"What are your personal house preferences? Tell me whatever you imagine your house to be like.\"\n",
    "house_size_q= \"What is the size of your ideal house? (in square meters)\"\n",
    "house_cost_q= \"What is the house cost you can afford? Is there any limit range for your budget?\""
   ],
   "id": "8ab3845820e54001",
   "outputs": [],
   "execution_count": 59
  },
  {
   "metadata": {},
   "cell_type": "markdown",
   "source": "**Answers (user input)**:",
   "id": "11bf2926e0b8d58d"
  },
  {
   "metadata": {
    "ExecuteTime": {
     "end_time": "2025-05-10T10:10:06.951788Z",
     "start_time": "2025-05-10T10:10:06.948618Z"
    }
   },
   "cell_type": "code",
   "source": [
    "neighborhood = 'Nearby the sea. I like a peaceful neighborhood.'\n",
    "preferences= 'Big windows house. I like sun and a beautiful garden.'\n",
    "house_size= 'A medium size house for a family of three.'\n",
    "house_cost= 'I can afford to pay between 100,000 and 250,000 euros. The cheaper the better.'"
   ],
   "id": "38a0e3e9a8ba0925",
   "outputs": [],
   "execution_count": 60
  },
  {
   "metadata": {},
   "cell_type": "markdown",
   "source": "Retrieving relevant documents based on user's preferences:",
   "id": "5ab9167e2266c9ab"
  },
  {
   "metadata": {
    "ExecuteTime": {
     "end_time": "2025-05-10T10:10:53.406335Z",
     "start_time": "2025-05-10T10:10:52.119181Z"
    }
   },
   "cell_type": "code",
   "source": [
    "retrieval_query = prompt_to_retriever(neighborhood, preferences, house_size, house_cost)\n",
    "docs = vdb.invoke(input=retrieval_query)"
   ],
   "id": "89451e543aaa8c1e",
   "outputs": [],
   "execution_count": 64
  },
  {
   "metadata": {},
   "cell_type": "markdown",
   "source": "## Part 3 - Input to LLM",
   "id": "1ce427088542c6e9"
  },
  {
   "metadata": {},
   "cell_type": "markdown",
   "source": "Creating the final prompt for input to llm:",
   "id": "422f26ee138fcf9c"
  },
  {
   "metadata": {
    "ExecuteTime": {
     "end_time": "2025-05-10T10:21:58.085790Z",
     "start_time": "2025-05-10T10:21:58.081877Z"
    }
   },
   "cell_type": "code",
   "source": [
    "query = prompt_to_llm(neighborhood, preferences, house_size, house_cost, docs)\n",
    "print(query)"
   ],
   "id": "972af91281971343",
   "outputs": [
    {
     "name": "stdout",
     "output_type": "stream",
     "text": [
      "\n",
      "    You are a helpful real estate recommendation engine that helps buyers find their ideal home based on their preferences.\n",
      "    According only to the context provided you must answer their query.\n",
      "\n",
      "    -- Buyer's preferences:\n",
      "    The user has the following preferences:\n",
      "        > Description of the ideal neighborhood: Nearby the sea. I like a peaceful neighborhood.\n",
      "        > Description of buyer's preferences: Big windows house. I like sun and a beautiful garden.\n",
      "        > House size preference: A medium size house for a family of three.\n",
      "        > Budget: I can afford to pay between 100,000 and 250,000 euros. The cheaper the better.\n",
      "\n",
      "    -- Output format rules:\n",
      "    > Based on the preferences above and the provided content, recommend a house/houses that meets the buyer's needs.\n",
      "    > Provide your recommendations strictly in markdown bullet points.\n",
      "    > Always augment the description of real estate listings (context).\n",
      "    > The augmentation should personalize the listing without changing factual information.\n",
      "    > First, provide a summarisation of houses provided in the context (in bullet points). Second provide the final recommendation (recommended house).\n",
      "    > The final recommendation's descriptions in markdown bullets should be unique, appealing, and tailored to the buyer's preferences.\n",
      "\n",
      "    -- Provided Real Estate Listings Context:\n",
      "    Document 0:\n",
      "            text: Neighborhood: Seaside Village\n",
      "Price: 295000 euro\n",
      "Bedrooms: 3\n",
      "House Size: 135 square meters\n",
      "\n",
      "Description: Charming 3-bedroom cottage just steps from the beach. Features a sunroom, updated kitchen, and a private garden.\n",
      "\n",
      "Neighborhood Description: Seaside Village offers a relaxed coastal lifestyle with sandy beaches, seafood restaurants, and a friendly community.\n",
      "            ---Document 1:\n",
      "            text: Neighborhood: Sunnydale\n",
      "Price: 270000 euro\n",
      "Bedrooms: 3\n",
      "House Size: 140 square meters\n",
      "\n",
      "Description: Modern 3-bedroom home featuring an open-concept layout, large windows, and a sleek kitchen with stainless steel appliances. The backyard is perfect for summer barbecues.\n",
      "\n",
      "Neighborhood Description: Sunnydale is a peaceful suburb with excellent schools, playgrounds, and a community pool. Residents enjoy quiet streets and friendly neighbors.\n",
      "            ---Document 2:\n",
      "            text: Neighborhood: Riverside Heights\n",
      "Price: 320000 euro\n",
      "Bedrooms: 4\n",
      "House Size: 210 square meters\n",
      "\n",
      "Description: Spacious 4-bedroom family home with a modern kitchen, open-plan living area, and a sun-drenched patio overlooking a private garden. The master suite features a walk-in closet and en-suite bathroom. Perfect for entertaining guests or relaxing with family.\n",
      "\n",
      "Neighborhood Description: Riverside Heights is known for its scenic river views, tree-lined streets, and family-friendly parks. Residents enjoy weekend farmers' markets and easy access to top-rated schools and local cafes.\n",
      "            ---Document 3:\n",
      "            text: Neighborhood: Lavender Fields\n",
      "Price: 230000 euro\n",
      "Bedrooms: 3\n",
      "House Size: 120 square meters\n",
      "\n",
      "Description: Charming 3-bedroom home with lavender gardens, updated kitchen, and a large backyard.\n",
      "\n",
      "Neighborhood Description: Lavender Fields is a family-friendly neighborhood with parks, schools, and a strong sense of community.\n",
      "            ---Document 4:\n",
      "            text: Neighborhood: Elm Street\n",
      "Price: 130000 euro\n",
      "Bedrooms: 2\n",
      "House Size: 80 square meters\n",
      "\n",
      "Description: Affordable 2-bedroom starter home with a renovated kitchen, cozy living room, and fenced backyard. Ideal for young couples or small families.\n",
      "\n",
      "Neighborhood Description: Elm Street is a friendly neighborhood with local shops, schools, and easy access to public transport.\n",
      "            ---\n"
     ]
    }
   ],
   "execution_count": 77
  },
  {
   "metadata": {
    "ExecuteTime": {
     "end_time": "2025-05-10T10:18:30.090703Z",
     "start_time": "2025-05-10T10:18:30.087789Z"
    }
   },
   "cell_type": "code",
   "source": [
    "# DEPRECATED\n",
    "#rag = RetrievalQA.from_chain_type(\n",
    "#    llm= chat_llm,\n",
    "#    chain_type=\"stuff\",\n",
    "#    retriever= db.as_retriever(\n",
    "#        search_type=\"mmr\",\n",
    "#        search_kwargs={'k': 5, 'fetch_k': 15, 'lambda_mult': 0.5}\n",
    "#        ),\n",
    "#    )\n",
    "#gen_output = rag.invoke(query)\n",
    "#print(gen_output['result'])"
   ],
   "id": "3b9e650741c1dbe9",
   "outputs": [],
   "execution_count": 76
  },
  {
   "metadata": {},
   "cell_type": "markdown",
   "source": "Generating the final answer using the LLM:",
   "id": "c1bbf4c0a36f8574"
  },
  {
   "metadata": {
    "ExecuteTime": {
     "end_time": "2025-05-10T10:17:51.086296Z",
     "start_time": "2025-05-10T10:17:46.150624Z"
    }
   },
   "cell_type": "code",
   "source": "llm_output = chat_llm.invoke(input = query)",
   "id": "e52741b40a2d6aee",
   "outputs": [],
   "execution_count": 71
  },
  {
   "metadata": {
    "ExecuteTime": {
     "end_time": "2025-05-10T10:18:09.865354Z",
     "start_time": "2025-05-10T10:18:09.861662Z"
    }
   },
   "cell_type": "code",
   "source": "print(llm_output.content)",
   "id": "2bd3fe9af9fc4c46",
   "outputs": [
    {
     "name": "stdout",
     "output_type": "stream",
     "text": [
      "**Summary of Houses Provided in the Context:**\n",
      "\n",
      "- **Seaside Village (295,000 euro, 3BR, 135 sqm):**\n",
      "  - Steps from the beach, sunroom, updated kitchen, private garden.\n",
      "  - Relaxed coastal lifestyle, sandy beaches, seafood restaurants, friendly community.\n",
      "  - *Above budget.*\n",
      "\n",
      "- **Sunnydale (270,000 euro, 3BR, 140 sqm):**\n",
      "  - Modern home, open-concept, large windows, sleek kitchen, backyard for barbecues.\n",
      "  - Peaceful suburb, excellent schools, quiet streets, community pool.\n",
      "  - *Slightly above budget.*\n",
      "\n",
      "- **Riverside Heights (320,000 euro, 4BR, 210 sqm):**\n",
      "  - Spacious, modern kitchen, sun-drenched patio, private garden, master suite.\n",
      "  - Scenic river views, parks, farmers' markets, cafes.\n",
      "  - *Well above budget.*\n",
      "\n",
      "- **Lavender Fields (230,000 euro, 3BR, 120 sqm):**\n",
      "  - Charming, lavender gardens, updated kitchen, large backyard.\n",
      "  - Family-friendly, parks, schools, strong community.\n",
      "  - *Within budget.*\n",
      "\n",
      "- **Elm Street (130,000 euro, 2BR, 80 sqm):**\n",
      "  - Affordable, renovated kitchen, cozy living room, fenced backyard.\n",
      "  - Friendly, local shops, schools, public transport.\n",
      "  - *Well within budget, but only 2 bedrooms.*\n",
      "\n",
      "---\n",
      "\n",
      "**Final Recommendation:**\n",
      "\n",
      "- **Lavender Fields (230,000 euro, 3BR, 120 sqm)**\n",
      "  - This charming home offers a peaceful retreat with its beautiful lavender gardens and a spacious backyard—perfect for enjoying the sun and creating your own tranquil oasis.\n",
      "  - The house features large windows that fill the living spaces with natural light, making it ideal for sun lovers who appreciate bright, airy rooms.\n",
      "  - With three bedrooms and a modern, updated kitchen, this medium-sized home is perfectly suited for a family of three, providing both comfort and functionality.\n",
      "  - Lavender Fields is a quiet, family-friendly neighborhood with parks and a strong sense of community, ensuring a peaceful environment close to nature.\n",
      "  - At 230,000 euros, this home fits comfortably within your budget, offering excellent value for a serene lifestyle and a beautiful garden setting.\n"
     ]
    }
   ],
   "execution_count": 74
  }
 ],
 "metadata": {
  "kernelspec": {
   "display_name": "Python 3",
   "language": "python",
   "name": "python3"
  },
  "language_info": {
   "codemirror_mode": {
    "name": "ipython",
    "version": 2
   },
   "file_extension": ".py",
   "mimetype": "text/x-python",
   "name": "python",
   "nbconvert_exporter": "python",
   "pygments_lexer": "ipython2",
   "version": "2.7.6"
  }
 },
 "nbformat": 4,
 "nbformat_minor": 5
}

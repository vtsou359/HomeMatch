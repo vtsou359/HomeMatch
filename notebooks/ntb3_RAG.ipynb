{
 "cells": [
  {
   "metadata": {},
   "cell_type": "markdown",
   "source": "# Notebook 3 - RAG",
   "id": "5f4cfe999d1a76cc"
  },
  {
   "cell_type": "code",
   "id": "initial_id",
   "metadata": {
    "collapsed": true,
    "ExecuteTime": {
     "end_time": "2025-05-08T16:13:24.107261Z",
     "start_time": "2025-05-08T16:13:20.095620Z"
    }
   },
   "source": [
    "# Imports:\n",
    "import pandas as pd\n",
    "from dotenv import load_dotenv\n",
    "from langchain.document_loaders.csv_loader import CSVLoader\n",
    "from langchain_openai.chat_models import ChatOpenAI\n",
    "from langchain_openai.embeddings import OpenAIEmbeddings\n",
    "from langchain_chroma.vectorstores import Chroma\n",
    "from langchain.chains import RetrievalQA\n",
    "from langchain.prompts import PromptTemplate\n",
    "from langchain.chains.question_answering import load_qa_chain\n",
    "# from langchain import  LLMChain\n",
    "# from pathlib import Path\n",
    "\n",
    "# Constants:\n",
    "CSV_FILEPATH = '../data/real_estate_listings_formatted.csv'\n",
    "VDB_PATH = '../vdb'\n",
    "VDB_NAME = 'real_estate_listings'\n",
    "# Environment variables:\n",
    "load_dotenv()\n",
    "\n",
    "# OpenAI Models:\n",
    "embeddings = OpenAIEmbeddings()\n",
    "chat_llm = ChatOpenAI(temperature= 0.0,\n",
    "                      model= \"gpt-4.1\",\n",
    "                      max_tokens= 1000,\n",
    "                      max_retries=1)\n",
    "\n",
    "# Loading Chroma DB:\n",
    "db = Chroma(persist_directory= VDB_PATH,\n",
    "            embedding_function=embeddings,\n",
    "            collection_name=VDB_NAME)"
   ],
   "outputs": [],
   "execution_count": 1
  },
  {
   "metadata": {
    "ExecuteTime": {
     "end_time": "2025-05-08T16:13:24.416527Z",
     "start_time": "2025-05-08T16:13:24.413384Z"
    }
   },
   "cell_type": "code",
   "source": "query = \"I want to buy a house in the old city. What is the best price?\"",
   "id": "972af91281971343",
   "outputs": [],
   "execution_count": 2
  },
  {
   "metadata": {
    "ExecuteTime": {
     "end_time": "2025-05-08T16:13:27.336636Z",
     "start_time": "2025-05-08T16:13:24.430840Z"
    }
   },
   "cell_type": "code",
   "source": [
    "rag = RetrievalQA.from_chain_type(\n",
    "    llm= chat_llm,\n",
    "    chain_type=\"stuff\",\n",
    "    retriever=db.as_retriever(\n",
    "        search_type=\"mmr\",\n",
    "        search_kwargs={'k': 5, 'fetch_k': 20, 'lambda_mult': 0.5}\n",
    "        )\n",
    "    )\n",
    "gen_output = rag.invoke(query)\n",
    "print(gen_output['result'])"
   ],
   "id": "c44429a4e13243d3",
   "outputs": [
    {
     "name": "stdout",
     "output_type": "stream",
     "text": [
      "Based on the provided information, the best price for a house in the Old Town (old city) is **185,000 euro**. This is for a charming 2-bedroom townhouse with exposed brick walls, original hardwood floors, an updated kitchen, and a private courtyard.\n"
     ]
    }
   ],
   "execution_count": 3
  },
  {
   "metadata": {
    "ExecuteTime": {
     "end_time": "2025-05-08T16:10:12.925710Z",
     "start_time": "2025-05-08T16:10:12.923539Z"
    }
   },
   "cell_type": "code",
   "source": "",
   "id": "c127111a79bf6a88",
   "outputs": [],
   "execution_count": null
  },
  {
   "metadata": {
    "ExecuteTime": {
     "end_time": "2025-05-08T16:10:12.943691Z",
     "start_time": "2025-05-08T16:10:12.941430Z"
    }
   },
   "cell_type": "code",
   "source": "",
   "id": "e59814d130d838a7",
   "outputs": [],
   "execution_count": null
  }
 ],
 "metadata": {
  "kernelspec": {
   "display_name": "Python 3",
   "language": "python",
   "name": "python3"
  },
  "language_info": {
   "codemirror_mode": {
    "name": "ipython",
    "version": 2
   },
   "file_extension": ".py",
   "mimetype": "text/x-python",
   "name": "python",
   "nbconvert_exporter": "python",
   "pygments_lexer": "ipython2",
   "version": "2.7.6"
  }
 },
 "nbformat": 4,
 "nbformat_minor": 5
}
